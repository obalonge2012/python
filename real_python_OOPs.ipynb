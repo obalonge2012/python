{
  "nbformat": 4,
  "nbformat_minor": 0,
  "metadata": {
    "colab": {
      "provenance": [],
      "authorship_tag": "ABX9TyOmaDAAslpUsNYjrypQ5Ml2",
      "include_colab_link": true
    },
    "kernelspec": {
      "name": "python3",
      "display_name": "Python 3"
    },
    "language_info": {
      "name": "python"
    }
  },
  "cells": [
    {
      "cell_type": "markdown",
      "metadata": {
        "id": "view-in-github",
        "colab_type": "text"
      },
      "source": [
        "<a href=\"https://colab.research.google.com/github/obalonge2012/python/blob/main/real_python_OOPs.ipynb\" target=\"_parent\"><img src=\"https://colab.research.google.com/assets/colab-badge.svg\" alt=\"Open In Colab\"/></a>"
      ]
    },
    {
      "cell_type": "code",
      "execution_count": null,
      "metadata": {
        "id": "lzLA6yUfiMtl"
      },
      "outputs": [],
      "source": []
    },
    {
      "cell_type": "code",
      "source": [
        "\n",
        "### ...         # Use dot notation to access class and instance attributes\n",
        "\n",
        "\n",
        "# class Employee:\n",
        "#     def __init__(self, name, age):\n",
        "#         self.name = name\n",
        "#         self.age = age\n",
        "#\n",
        "# bolaji = Employee(\"Bolaji\", 38)\n",
        "\n",
        "\n",
        "class Dog:\n",
        "    pass\n",
        "\n",
        "\n",
        "#og_1 = Dog(name: \"jack\")\n",
        "\n",
        "# print(Dog())\n",
        "\n",
        "a = Dog()\n",
        "b= Dog()\n",
        "\n",
        "# print(a)\n",
        "# print(b)\n",
        "\n",
        "a = b\n",
        "\n",
        "\n",
        "\n",
        "\n",
        "\n",
        "\n",
        "\n"
      ],
      "metadata": {
        "id": "oVq6Mdp_ib2O"
      },
      "execution_count": null,
      "outputs": []
    },
    {
      "cell_type": "markdown",
      "source": [
        "\n",
        "\n",
        "\n",
        "\n",
        "\n",
        "\n",
        "\n",
        "\n",
        "\n",
        "\n"
      ],
      "metadata": {
        "id": "qUyafDmzick6"
      }
    },
    {
      "cell_type": "code",
      "source": [],
      "metadata": {
        "id": "uEzFqzthiC3i"
      },
      "execution_count": null,
      "outputs": []
    },
    {
      "cell_type": "code",
      "source": [
        "#============\n",
        "# Class and Instance Attributes\n",
        "class Dog:\n",
        "    species = \"Canis familiaris\"\n",
        "    def __init__(self, name, age):\n",
        "      self.name = name\n",
        "      self.age = age\n",
        "\n",
        "\n",
        "#Dog()\n",
        "dog_1 = Dog(name=\"Jack\", age=10)\n",
        "dog_2 = Dog(name=\"Bingo\", age=20)\n",
        "\n",
        "### After you create the Dog instances, you can access their instance attributes using dot notation:\n",
        "# print(dog_1)\n",
        "# print(dog_2)\n",
        "\n",
        "# dog_1.name\n",
        "# dog_2.name\n",
        "# dog_1.age\n",
        "# dog_1.species\n",
        "# dog_2.species\n",
        "\n",
        "# Note:\n",
        "# - class instance ATTRIBUTES are guaranted to exists or to have Attributes that you expect.\n",
        "# - class instance ATTRIBUTES can change dynamically\n",
        "\n",
        "# dog_1.name = \"JackofALL\"\n",
        "# print(dog_1.name)\n",
        "\n",
        "dog_1.species = \"Felis silvestris\"\n",
        "print(dog_1.species)\n",
        "\n",
        "#============\n",
        "## Instance Methods\n",
        "\n",
        "class Dog:\n",
        "  def __init__(self, name, age):\n",
        "    self.name = name\n",
        "    self.age = age\n",
        "# Instance methods=functions that you define inside a class\n",
        "  # Instance methods\n",
        "  # def description(self):\n",
        "  #   return \"{} is {} years old\".format(self.name, self.age)\n",
        "\n",
        "  # Another Instance methods\n",
        "  def speak(self, sound):\n",
        "    return \"{} says {}\".format(self.name, sound)\n",
        "\n",
        "  # Add special methods__str__\n",
        "  def __str__(self):\n",
        "    return \"{} is {} years old\".format(self.name, self.age)\n",
        "\n",
        "\n",
        "# print\n",
        "dog_1 = Dog(name=\"Jack\", age=10)\n",
        "dog_2 = Dog(name=\"Bingo\", age=20)\n",
        "\n",
        "# print(dog_1.description)\n",
        "# dog_1.name\n",
        "# dog_1.description()\n",
        "# dog_2.speak(\"Mheeeeennnn\")\n",
        "\n",
        "#====== __str__\n",
        "#special instance method called .__str__().\n",
        "#print(dog_1.__str__)\n",
        "miles = Dog(name=\"Miles\", age=4)\n",
        "print(miles)\n",
        "print(dog_1)\n",
        "\n"
      ],
      "metadata": {
        "colab": {
          "base_uri": "https://localhost:8080/"
        },
        "id": "cikIEPcfaTPB",
        "outputId": "6b9384a4-47e4-4121-8f35-0a7134724f4d"
      },
      "execution_count": null,
      "outputs": [
        {
          "output_type": "stream",
          "name": "stdout",
          "text": [
            "Felis silvestris\n",
            "Miles is 4 years old\n",
            "Jack is 10 years old\n"
          ]
        }
      ]
    },
    {
      "cell_type": "markdown",
      "source": [],
      "metadata": {
        "id": "NIomr7gCij1R"
      }
    },
    {
      "cell_type": "code",
      "source": [
        "### Exercise\n",
        "# Create a Car class\n",
        "class Car:\n",
        "\n",
        "  def __init__(self, color, mileage):\n",
        "    self.color = color\n",
        "    self.mileage = mileage\n",
        "\n",
        "  # def outputs(self):\n",
        "  #   return \"{} has {} mileages\".format(self.color, self.mileage)\n",
        "\n",
        "  # def outputs(self):\n",
        "  #   return \"{} car is {} mileages\".format(self.color, self.mileage)\n",
        "\n",
        "  def __str__(self):\n",
        "    return \"{} car has {:,} mileages\".format(self.color, self.mileage)\n",
        "\n",
        "\n",
        "car_blue = Car(color=\"Blue\", mileage=20000)\n",
        "car_red = Car(color=\"Re\", mileage=30000)\n",
        "\n",
        "#print(car_blue)\n",
        "\n",
        "for car in (car_blue, car_red):\n",
        "  print(car)\n",
        "\n"
      ],
      "metadata": {
        "colab": {
          "base_uri": "https://localhost:8080/"
        },
        "id": "OgC4Qob7u-P6",
        "outputId": "12bea686-683a-408c-b13e-7edae8d31dde"
      },
      "execution_count": null,
      "outputs": [
        {
          "output_type": "stream",
          "name": "stdout",
          "text": [
            "Blue car has 20,000 mileages\n",
            "Re car has 30,000 mileages\n"
          ]
        }
      ]
    },
    {
      "cell_type": "code",
      "source": [
        "### How Do You Inherit From Another Class in Python?\n",
        "# class Parent:\n",
        "#   hair_color = \"brown\"\n",
        "\n",
        "# class Child(Parent):\n",
        "#   hair_color = \"purple\"\n",
        "\n",
        "# #baby_1 = Parent(hair_color)\n",
        "# #baby_1 = Child(hair_color)\n",
        "\n",
        "# #Parent.hair_color\n",
        "# Child.hair_color\n",
        "\n",
        "class Parent:\n",
        "  speaks = [\"English\"]\n",
        "\n",
        "class Child(Parent):\n",
        "\n",
        "  def __init__(self):\n",
        "    super().__init__()\n",
        "    self.speaks.append(\"German\")\n",
        "\n",
        "#david_jr = Child()\n",
        "Child.speaks\n",
        "\n",
        "\n",
        "\n",
        "\n",
        "\n",
        "\n",
        "\n",
        "\n",
        "\n",
        "\n",
        "\n"
      ],
      "metadata": {
        "colab": {
          "base_uri": "https://localhost:8080/"
        },
        "id": "u9paJlTZy1zt",
        "outputId": "3d77abba-bd44-48bb-fb6a-daf77edd4b8d"
      },
      "execution_count": null,
      "outputs": [
        {
          "output_type": "execute_result",
          "data": {
            "text/plain": [
              "['English']"
            ]
          },
          "metadata": {},
          "execution_count": 78
        }
      ]
    },
    {
      "cell_type": "code",
      "source": [
        "### Example: Dog Park\n",
        "class Dog:\n",
        "  species = \"Canis familiaris\"\n",
        "\n",
        "  def __init__(self, name, age, breed):\n",
        "    self.name = name\n",
        "    self.age = age\n",
        "    self.breed = breed\n",
        "\n",
        "  def __str__(self):\n",
        "    return \"{} is {:.} years old\".format(self.name, self.age)\n",
        "\n",
        "  def speak(self, sound):\n",
        "    return \"{} says {}\".format(self.name, sound)\n",
        "\n",
        "miles = Dog(name=\"Miles\", age=4, breed=\"JackRussellTerrier\")\n",
        "buddy = Dog(name=\"Buddy\", age=9, breed=\"Dachshund\")\n",
        "jack = Dog(name=\"Jack\", age=3, breed=\"Bulldog\")\n",
        "jim = Dog(name=\"Jim\", age=5, breed=\"Bulldog\")\n",
        "\n",
        "jim.name\n",
        "jim.speak(sound=\"Mheeeennn\")\n",
        "jim.speak(\"Mheeeennn\")\n",
        "\n",
        "# You are passing correct sound to the speak method ... this DRY (repetitve & incovenient)\n"
      ],
      "metadata": {
        "colab": {
          "base_uri": "https://localhost:8080/",
          "height": 35
        },
        "id": "8UoHn6sZEbeO",
        "outputId": "442bcc98-9ea8-4f79-a271-7952ef6c2907"
      },
      "execution_count": null,
      "outputs": [
        {
          "output_type": "execute_result",
          "data": {
            "text/plain": [
              "'Jim says Mheeeennn'"
            ],
            "application/vnd.google.colaboratory.intrinsic+json": {
              "type": "string"
            }
          },
          "metadata": {},
          "execution_count": 87
        }
      ]
    },
    {
      "cell_type": "code",
      "source": [
        "### Parent Classes vs Child Classes\n",
        "class Dog:\n",
        "  species = \"Canis familiaris\"\n",
        "\n",
        "  def __init__(self, name, age, breed):\n",
        "    self.name = name\n",
        "    self.age = age\n",
        "    self.breed = breed\n",
        "\n",
        "  def __str__(self):\n",
        "    return \"{} is {:.} years old\".format(self.name, self.age)\n",
        "\n",
        "class JackRusselTerrier(Dog):\n",
        "\n",
        "  def __init__(self, name, age, breed, speak):\n",
        "    #super().__init__(self, name, age, breed)\n",
        "    Dog.__init__(self, name, age, breed)\n",
        "    self.speak = speak\n",
        "\n",
        "\n",
        "\n",
        "miles = Dog(name=\"Miles\", age=4, breed=\"JackRussellTerrier\")\n",
        "buddy = Dog(name=\"Buddy\", age=9, breed=\"Dachshund\")\n",
        "jack = Dog(name=\"Jack\", age=3, breed=\"Bulldog\")\n",
        "jim = Dog(name=\"Jim\", age=5, breed=\"Bulldog\")\n",
        "\n",
        "#type(miles)\n",
        "#isinstance(miles, Dog)\n",
        "#isinstance(miles, JackRusselTerrier) # false, why??\n",
        "issubclass(JackRusselTerrier, Dog)\n",
        "\n",
        "# In general, all objects created from a child class are instances of the\n",
        "# parent class, although they may not be instances of other child classes.\n",
        "\n"
      ],
      "metadata": {
        "colab": {
          "base_uri": "https://localhost:8080/"
        },
        "id": "vbaDxtodJRLD",
        "outputId": "24478a23-c201-4c42-d3fe-522926f564b5"
      },
      "execution_count": null,
      "outputs": [
        {
          "output_type": "execute_result",
          "data": {
            "text/plain": [
              "True"
            ]
          },
          "metadata": {},
          "execution_count": 149
        }
      ]
    },
    {
      "cell_type": "markdown",
      "source": [],
      "metadata": {
        "id": "KPpyzhs8EbDa"
      }
    },
    {
      "cell_type": "code",
      "source": [
        "### Oveerride a method define in Parent Class: Parent Class Functionality\n",
        "### Extension\n",
        "class Dog:\n",
        "  species = \"Canis familiaris\"\n",
        "\n",
        "  def __init__(self, name, age):\n",
        "    self.name = name\n",
        "    self.age = age\n",
        "    #self.breed = breed\n",
        "\n",
        "  def __str__(self):\n",
        "    return \"{} is {} years old\".format(self.name, self.age)\n",
        "\n",
        "  def speak(self, sound):\n",
        "    return \"{1} says {0}\".format(self.name, sound)\n",
        "    #return \"{1} says {0}\".format(self.name, sound) # change position??\n",
        "\n",
        "  # def speak(self, sound):\n",
        "  #   return f\"{self.name} says {sound}\"\n",
        "\n",
        "### Now, define a chils class method with the same name on the Parent class\n",
        "# class JackRusselTerrier(Dog):\n",
        "\n",
        "#   def speak(self, sound=\"Ouuuuuch\"):\n",
        "#     return \"{} says {}\".format(self.name, sound)\n",
        "\n",
        "# class JackRussellTerrier(Dog):\n",
        "#     def speak(self, sound=\"Arf\"):\n",
        "#         return f\"{self.name} barks {sound}\"\n",
        "#         #return super().speak(sound)\n",
        "\n",
        "# vs\n",
        "class GoldenRetriever(Dog):\n",
        "    def speak(self, sound=\"Bark\"):\n",
        "        return super().speak(sound)\n",
        "\n",
        "\n",
        "#miles = JackRussellTerrier(name=\"Miles\", age=4, breed=\"JackRussellTerrier\", sound=\"Arf\")\n",
        "miles = Dog(name=\"Miles\", age=4) #breed=\"JackRussellTerrier\")\n",
        "# buddy = Dog(name=\"Buddy\", age=9, breed=\"Dachshund\")\n",
        "# jack = Dog(name=\"Jack\", age=3, breed=\"Bulldog\")\n",
        "# jim = Dog(name=\"Jim\", age=5, breed=\"Bulldog\")\n",
        "\n",
        "#miles.speak(sound=\"Arf\")\n",
        "miles.speak(sound=\"Arf2\")\n",
        "\n",
        "### One thing to keep in mind about class inheritance is that changes to the\n",
        "# parent class automatically propagate to child classes.\n",
        "\n",
        "# Sometimes it makes sense to completely override a method from a parent class.\n",
        "# But in this case, you don’t want the JackRussellTerrier class to lose any changes that you might make to the formatting of the Dog.speak() output string.\n",
        "\n",
        "\n",
        "\n",
        "\n"
      ],
      "metadata": {
        "colab": {
          "base_uri": "https://localhost:8080/",
          "height": 35
        },
        "id": "uhfN2VwRR_5Z",
        "outputId": "911a9e07-5c07-4e2f-9c43-f1f8afde8f28"
      },
      "execution_count": null,
      "outputs": [
        {
          "output_type": "execute_result",
          "data": {
            "text/plain": [
              "'Arf2 says Miles'"
            ],
            "application/vnd.google.colaboratory.intrinsic+json": {
              "type": "string"
            }
          },
          "metadata": {},
          "execution_count": 140
        }
      ]
    },
    {
      "cell_type": "code",
      "source": [
        "class Dog:\n",
        "    species = \"Canis familiaris\"\n",
        "\n",
        "    def __init__(self, name, age):\n",
        "        self.name = name\n",
        "        self.age = age\n",
        "\n",
        "    def __str__(self):\n",
        "        return f\"{self.name} is {self.age} years old\"\n",
        "\n",
        "    def speak(self, sound):\n",
        "        return f\"{self.name} says {sound}\"\n",
        "\n",
        "\n",
        "class GoldenRetriever(Dog):\n",
        "    def speak(self, sound=\"Bark\"):\n",
        "        return super().speak(sound)\n",
        "\n",
        "\n",
        "miles = GoldenRetriever(\"Miles\", 4)\n",
        "\n",
        "miles.speak(sound=\"Arf\")"
      ],
      "metadata": {
        "colab": {
          "base_uri": "https://localhost:8080/",
          "height": 35
        },
        "id": "1ELm1rCNecc1",
        "outputId": "cc95844b-caac-4f67-ba60-0f778603a681"
      },
      "execution_count": null,
      "outputs": [
        {
          "output_type": "execute_result",
          "data": {
            "text/plain": [
              "'Miles says arf'"
            ],
            "application/vnd.google.colaboratory.intrinsic+json": {
              "type": "string"
            }
          },
          "metadata": {},
          "execution_count": 128
        }
      ]
    },
    {
      "cell_type": "code",
      "source": [
        "# Is Philo a mammal?\n",
        "if philo.species == \"mammal\":\n",
        "print(\"{0} is a {1}!\".format(philo.name, philo.species))\n",
        "\n",
        "\n",
        "### using optional PARAMETERS\n",
        " class MyClass:\n",
        "\n",
        "  def __init__(self, param1=None):\n",
        "    if param1 is None:\n",
        "      # Do something\n",
        "    else:\n",
        "      # work with value of param1\n"
      ],
      "metadata": {
        "id": "vBzH_PwJty9p"
      },
      "execution_count": null,
      "outputs": []
    },
    {
      "cell_type": "code",
      "source": [
        "### Exercise 2\n",
        "class Pets:\n",
        "  # Class attribute\n",
        "  dogs = [] # not needed\n",
        "  species = 'mammal'\n",
        "\n",
        "  def __init__(self, name, age):\n",
        "    self.name = name\n",
        "    self.age = age\n",
        "    self.is_hungry = True  # assuming all dogs start as hungry\n",
        "\n",
        "  # define method for no of dogs\n",
        "  @staticmethod\n",
        "  def no_of_dogs(dogs): #static method??\n",
        "    return len(\"dogs\")\n",
        "\n",
        "  # define method for feed dogs\n",
        "  def eat_something(self):\n",
        "    self.is_hungry = False  # after eating, they are no longer hungry\n",
        "\n",
        "\n",
        "  # define method for walk\n",
        "  @staticmethod\n",
        "  def walk():\n",
        "    return \"walking\"\n",
        "\n",
        "  # Storing instances of Pets in lists\n",
        "dogs = [Pets(\"Tiger\", 9), Pets(\"Dolor\", 7), Pets(\"Ram\", 12), Pets(\"Genny\", 18)]\n",
        "\n",
        "# finding no. of dogs\n",
        "print(\"I have {} dogs\".format(Pets.no_of_dogs(dogs)))\n",
        "#print(\"I have {} dogs\".format(Pets.no_of_dogs(1))) getting error.\n",
        "\n",
        "# Iterate through all dogs name and their ages\n",
        "for my_dog in dogs:\n",
        "  #print(\"{} is {} years old.\".format(dogs[\"dog\"].name, dogs[dog].age))\n",
        "  #print(\"{} is {} years old.\".format(dogs.name, dogs.age))\n",
        "  print(\"{} is {} years old.\".format(my_dog.name, my_dog.age))\n",
        "\n",
        "# Find their species\n",
        "print(\"And they are all of same {}, of course\".format(Pets.species))\n",
        "\n",
        "# ALL dogs are hungry or not\n",
        "for my_dog in dogs:\n",
        "    my_dog.eat_something()\n",
        "    print(\"{} are {} hungry\".format(my_dog.name, my_dog.eat_something()))\n",
        "    #print(my_dog.eat_something())\n",
        "\n",
        "# # Check if all dogs are no longer hungry\n",
        "# all_dog_hungry = False\n",
        "# if all_dog_hungry:\n",
        "#   print(\"My dogs are hungry\")\n",
        "\n",
        "# else:\n",
        "#   print(\"My dogs are NOT hungry\")\n",
        "\n",
        "are_my_dogs_hungry = False\n",
        "for my_dog in dogs:\n",
        "  if my_dog.is_hungry:\n",
        "    are_my_dogs_hungry\n",
        "\n",
        "\n",
        "# # All dogs are walking\n",
        "# for my_dog in dogs:\n",
        "#   print(\"my {} are walking\".format(my_dog.name, Pets.walk))\n",
        "\n",
        "\n",
        "#len(dir())\n",
        "len(dir(__builtins__))\n"
      ],
      "metadata": {
        "colab": {
          "base_uri": "https://localhost:8080/"
        },
        "id": "AnZai0NqwEHV",
        "outputId": "f37435f5-3f08-4f81-a450-61270b0ee9a1"
      },
      "execution_count": null,
      "outputs": [
        {
          "output_type": "stream",
          "name": "stdout",
          "text": [
            "I have 4 dogs\n",
            "Tiger is 9 years old.\n",
            "Dolor is 7 years old.\n",
            "Ram is 12 years old.\n",
            "Genny is 18 years old.\n",
            "And they are all of same mammal, of course\n",
            "Tiger are None hungry\n",
            "Dolor are None hungry\n",
            "Ram are None hungry\n",
            "Genny are None hungry\n"
          ]
        },
        {
          "output_type": "execute_result",
          "data": {
            "text/plain": [
              "161"
            ]
          },
          "metadata": {},
          "execution_count": 206
        }
      ]
    },
    {
      "cell_type": "code",
      "source": [
        "### Positional Arguments\n",
        "def f(qty, items, price):\n",
        "  print(f\"{qty} {items} cost ${price:.2f}\")\n",
        "\n",
        "f(6, \"banana\", 1.74)\n",
        "\n"
      ],
      "metadata": {
        "colab": {
          "base_uri": "https://localhost:8080/"
        },
        "id": "c2RuOZzaIBAX",
        "outputId": "1f993771-682e-44a7-a44e-f59ad076d925"
      },
      "execution_count": null,
      "outputs": [
        {
          "output_type": "stream",
          "name": "stdout",
          "text": [
            "6 banana cost $1.74\n"
          ]
        }
      ]
    },
    {
      "cell_type": "code",
      "source": [
        "# Defining Functions With No Input Parameters\n",
        "\n",
        "shopping_list = {\n",
        "    \"Bread\": 1,\n",
        "    \"Milk\": 2,\n",
        "    \"Chocolate\": 1,\n",
        "    \"Butter\": 1,\n",
        "    \"Coffee\": 1,\n",
        "}\n",
        "\n",
        "def show_list():\n",
        "    for item_name, quantity in shopping_list.items():\n",
        "        print(f\"{quantity}x {item_name}\")\n",
        "\n",
        "show_list()"
      ],
      "metadata": {
        "id": "-vJ0MbbzRkF8"
      },
      "execution_count": null,
      "outputs": []
    },
    {
      "cell_type": "code",
      "source": [
        "# Defining Functions With Required Input Arguments\n",
        "\n",
        "shopping_list = {}\n",
        "\n",
        "def add_items(item_name, quantity, ):\n",
        "  if item_name in shopping_list.keys():\n",
        "    shopping_list[item_name] += quantity\n",
        "\n",
        "  else:\n",
        "    shopping_list[item_name] = quantity\n",
        "\n",
        "#add_items(\"Bread\", 1)\n",
        "add_items(1, \"Bread\")\n",
        "print(shopping_list)\n",
        "\n"
      ],
      "metadata": {
        "colab": {
          "base_uri": "https://localhost:8080/"
        },
        "id": "dULmV5RhQrpv",
        "outputId": "c5061717-d3fb-4b24-a85c-7d78b1e68695"
      },
      "execution_count": null,
      "outputs": [
        {
          "output_type": "stream",
          "name": "stdout",
          "text": [
            "{1: 'Bread'}\n"
          ]
        }
      ]
    },
    {
      "cell_type": "code",
      "source": [
        "# Using Python Optional Arguments With Default Values\n",
        "\n",
        "# optional_params.py\n",
        "\n",
        "shopping_list = {}\n",
        "\n",
        "def add_item(item_name, quantity=1):\n",
        "    if item_name in shopping_list.keys():\n",
        "        shopping_list[item_name] += quantity\n",
        "    else:\n",
        "        shopping_list[item_name] = quantity\n",
        "\n",
        "add_item(\"Bread\")\n",
        "add_item(\"Milk\", 2)\n",
        "print(shopping_list)\n",
        "\n",
        "\n",
        "# Common Default Argument Values\n",
        "def add_item(item_name=\"\", quantity=1):\n",
        "    if item_name in shopping_list.keys():\n",
        "        shopping_list[item_name] += quantity\n",
        "    else:\n",
        "        shopping_list[item_name] = quantity"
      ],
      "metadata": {
        "id": "tzHiZ_meTFaJ"
      },
      "execution_count": null,
      "outputs": []
    },
    {
      "cell_type": "code",
      "source": [
        "# Data Types That Shouldn’t Be Used as Default Arguments\n",
        "\n",
        "hardware_store_list = {}\n",
        "supermarket_list = {}\n",
        "\n",
        "def show_list(shopping_list, include_quantities=True):\n",
        "    print()\n",
        "    for item_name, quantity in shopping_list.items():\n",
        "        if include_quantities:\n",
        "            print(f\"{quantity}x {item_name}\")\n",
        "        else:\n",
        "            print(item_name)\n",
        "\n",
        "def add_item(item_name, quantity, shopping_list):\n",
        "    if item_name in shopping_list.keys():\n",
        "        shopping_list[item_name] += quantity\n",
        "    else:\n",
        "        shopping_list[item_name] = quantity\n",
        "\n",
        "    return shopping_list\n",
        "\n",
        "hardware_store_list = add_item(\"Nails\", 1, hardware_store_list)\n",
        "hardware_store_list = add_item(\"Screwdriver\", 1, hardware_store_list)\n",
        "hardware_store_list = add_item(\"Glue\", 3, hardware_store_list)\n",
        "\n",
        "supermarket_list = add_item(\"Bread\", 1, supermarket_list)\n",
        "supermarket_list = add_item(\"Milk\", 2, supermarket_list)\n",
        "\n",
        "show_list(hardware_store_list)\n",
        "show_list(supermarket_list)"
      ],
      "metadata": {
        "id": "DvBT5RZTT96a"
      },
      "execution_count": null,
      "outputs": []
    },
    {
      "cell_type": "code",
      "source": [
        "dishes = {'eggs': 2, 'sausage': 1, 'bacon': 1, 'spam': 500}\n",
        "\n",
        "keys = dishes.keys()\n",
        "values = dishes.values()\n",
        "print(list(values))\n",
        "\n",
        "items_view = dishes.items()\n",
        "print(items_view)\n",
        "\n",
        "\n",
        "# # Initial dictionary\n",
        "# shopping_list = {'apple': 5, 'banana': 3}\n",
        "\n",
        "# # Create a view of the dictionary's items\n",
        "# view = shopping_list.items()\n",
        "# print(list(view))  # Output: [('apple', 5), ('banana', 3)]\n",
        "\n",
        "#====================\n",
        "# incomes = {\"apple\": 5600.00, \"orange\": 3500.00, \"banana\": 5000.00}\n",
        "# total_income = 0.00\n",
        "\n",
        "# #def show_items():\n",
        "# for income in incomes.values():\n",
        "#     total_income += income\n",
        "\n",
        "\n",
        "# total_income\n",
        "\n",
        "#====================\n",
        "\n",
        "\n"
      ],
      "metadata": {
        "colab": {
          "base_uri": "https://localhost:8080/"
        },
        "id": "vjgKe6Bue1ww",
        "outputId": "ee107469-cc04-4ce9-bbf6-5b2dd17e064b"
      },
      "execution_count": null,
      "outputs": [
        {
          "output_type": "stream",
          "name": "stdout",
          "text": [
            "[2, 1, 1, 500]\n",
            "dict_items([('eggs', 2), ('sausage', 1), ('bacon', 1), ('spam', 500)])\n"
          ]
        }
      ]
    },
    {
      "cell_type": "code",
      "source": [
        "#====================\n",
        "# Method Types in Python OOP: @classmethod, @staticmethod, and Instance Methods\n",
        "class MyClass:\n",
        "  def regularmethod(self):\n",
        "    return 'regular instance method called', self\n",
        "\n",
        "  @classmethod\n",
        "  def classmethod(cls):\n",
        "    return 'class method called', cls\n",
        "\n",
        "  @staticmethod\n",
        "  def staticmethod():\n",
        "    return 'static method called'\n",
        "\n",
        "\n",
        "obj = MyClass()\n",
        "# obj.regularmethod()\n",
        "\n",
        "# obj.classmethod()\n",
        "\n",
        "obj.staticmethod() # will not work\n",
        "\n",
        "# # below won't work for regular method bcos we are not calling actual class instance unless you put sth inside the ().\n",
        "# MyClass.regularmethod(\"one\")\n",
        "\n",
        "# MyClass.classmethod()\n",
        "\n",
        "# MyClass.staticmethod()"
      ],
      "metadata": {
        "id": "QmHJvvOJfBCz",
        "colab": {
          "base_uri": "https://localhost:8080/",
          "height": 345
        },
        "outputId": "7ca2d87a-c420-4d57-ae7e-89e29d4c44bf"
      },
      "execution_count": null,
      "outputs": [
        {
          "output_type": "error",
          "ename": "TypeError",
          "evalue": "staticmethod() takes 0 positional arguments but 1 was given",
          "traceback": [
            "\u001b[0;31m---------------------------------------------------------------------------\u001b[0m",
            "\u001b[0;31mTypeError\u001b[0m                                 Traceback (most recent call last)",
            "\u001b[0;32m<ipython-input-26-e488c38dcc7b>\u001b[0m in \u001b[0;36m<cell line: 0>\u001b[0;34m()\u001b[0m\n\u001b[1;32m      1\u001b[0m \u001b[0;31m#====================\u001b[0m\u001b[0;34m\u001b[0m\u001b[0;34m\u001b[0m\u001b[0m\n\u001b[1;32m      2\u001b[0m \u001b[0;31m# Method Types in Python OOP: @classmethod, @staticmethod, and Instance Methods\u001b[0m\u001b[0;34m\u001b[0m\u001b[0;34m\u001b[0m\u001b[0m\n\u001b[0;32m----> 3\u001b[0;31m \u001b[0;32mclass\u001b[0m \u001b[0mMyClass\u001b[0m\u001b[0;34m:\u001b[0m\u001b[0;34m\u001b[0m\u001b[0;34m\u001b[0m\u001b[0m\n\u001b[0m\u001b[1;32m      4\u001b[0m   \u001b[0;32mdef\u001b[0m \u001b[0mregularmethod\u001b[0m\u001b[0;34m(\u001b[0m\u001b[0mself\u001b[0m\u001b[0;34m)\u001b[0m\u001b[0;34m:\u001b[0m\u001b[0;34m\u001b[0m\u001b[0;34m\u001b[0m\u001b[0m\n\u001b[1;32m      5\u001b[0m     \u001b[0;32mreturn\u001b[0m \u001b[0;34m'regular instance method called'\u001b[0m\u001b[0;34m,\u001b[0m \u001b[0mself\u001b[0m\u001b[0;34m\u001b[0m\u001b[0;34m\u001b[0m\u001b[0m\n",
            "\u001b[0;32m<ipython-input-26-e488c38dcc7b>\u001b[0m in \u001b[0;36mMyClass\u001b[0;34m()\u001b[0m\n\u001b[1;32m      9\u001b[0m     \u001b[0;32mreturn\u001b[0m \u001b[0;34m'class method called'\u001b[0m\u001b[0;34m,\u001b[0m \u001b[0mcls\u001b[0m\u001b[0;34m\u001b[0m\u001b[0;34m\u001b[0m\u001b[0m\n\u001b[1;32m     10\u001b[0m \u001b[0;34m\u001b[0m\u001b[0m\n\u001b[0;32m---> 11\u001b[0;31m   \u001b[0;34m@\u001b[0m\u001b[0mstaticmethod\u001b[0m\u001b[0;34m\u001b[0m\u001b[0;34m\u001b[0m\u001b[0m\n\u001b[0m\u001b[1;32m     12\u001b[0m   \u001b[0;32mdef\u001b[0m \u001b[0mstaticmethod\u001b[0m\u001b[0;34m(\u001b[0m\u001b[0;34m)\u001b[0m\u001b[0;34m:\u001b[0m\u001b[0;34m\u001b[0m\u001b[0;34m\u001b[0m\u001b[0m\n\u001b[1;32m     13\u001b[0m     \u001b[0;32mreturn\u001b[0m \u001b[0;34m'static method called'\u001b[0m\u001b[0;34m\u001b[0m\u001b[0;34m\u001b[0m\u001b[0m\n",
            "\u001b[0;31mTypeError\u001b[0m: staticmethod() takes 0 positional arguments but 1 was given"
          ]
        }
      ]
    },
    {
      "cell_type": "code",
      "source": [
        "# Examples\n",
        "\n",
        "class Pizza:\n",
        "  def __init__(self, ingredients):\n",
        "    self.ingredients = ingredients\n",
        "\n",
        "  def __repr__(cls):\n",
        "    return f\"Pizza({cls.ingredients})\"\n",
        "\n",
        "  @classmethod\n",
        "  def margherita(cls):\n",
        "    return cls([\"cheese\", \"tomatoes\"])\n",
        "\n",
        "  @classmethod\n",
        "  def prosciutto(cls):\n",
        "    return cls([\"cheese\", \"tomatoes\", \"ham\", \"mushrooms\"])\n",
        "\n",
        "  @staticmethod\n",
        "  def _circle_area():  # he uses \"_\" to emphasize that it is not part of APIs for this function but a kind of internal implementation detail\n",
        "    return r**2 * math.pi\n",
        "\n",
        "# # classmethod objects\n",
        "# Pizza.margherita()\n",
        "# Pizza.prosciutto()\n",
        "\n",
        "# staticmethod objects\n",
        "#Pizza([4.5, ['cheese'].area()])\n",
        "Pizza._circle_area\n",
        "\n",
        "\n"
      ],
      "metadata": {
        "colab": {
          "base_uri": "https://localhost:8080/",
          "height": 345
        },
        "id": "vVX7dtfFH-CG",
        "outputId": "99a06c2f-0b11-438c-bc24-98365bf53879"
      },
      "execution_count": null,
      "outputs": [
        {
          "output_type": "error",
          "ename": "TypeError",
          "evalue": "staticmethod() takes 0 positional arguments but 1 was given",
          "traceback": [
            "\u001b[0;31m---------------------------------------------------------------------------\u001b[0m",
            "\u001b[0;31mTypeError\u001b[0m                                 Traceback (most recent call last)",
            "\u001b[0;32m<ipython-input-34-69cb56ebe713>\u001b[0m in \u001b[0;36m<cell line: 0>\u001b[0;34m()\u001b[0m\n\u001b[1;32m      1\u001b[0m \u001b[0;31m# Examples\u001b[0m\u001b[0;34m\u001b[0m\u001b[0;34m\u001b[0m\u001b[0m\n\u001b[1;32m      2\u001b[0m \u001b[0;34m\u001b[0m\u001b[0m\n\u001b[0;32m----> 3\u001b[0;31m \u001b[0;32mclass\u001b[0m \u001b[0mPizza\u001b[0m\u001b[0;34m:\u001b[0m\u001b[0;34m\u001b[0m\u001b[0;34m\u001b[0m\u001b[0m\n\u001b[0m\u001b[1;32m      4\u001b[0m   \u001b[0;32mdef\u001b[0m \u001b[0m__init__\u001b[0m\u001b[0;34m(\u001b[0m\u001b[0mself\u001b[0m\u001b[0;34m,\u001b[0m \u001b[0mingredients\u001b[0m\u001b[0;34m)\u001b[0m\u001b[0;34m:\u001b[0m\u001b[0;34m\u001b[0m\u001b[0;34m\u001b[0m\u001b[0m\n\u001b[1;32m      5\u001b[0m     \u001b[0mself\u001b[0m\u001b[0;34m.\u001b[0m\u001b[0mingredients\u001b[0m \u001b[0;34m=\u001b[0m \u001b[0mingredients\u001b[0m\u001b[0;34m\u001b[0m\u001b[0;34m\u001b[0m\u001b[0m\n",
            "\u001b[0;32m<ipython-input-34-69cb56ebe713>\u001b[0m in \u001b[0;36mPizza\u001b[0;34m()\u001b[0m\n\u001b[1;32m     16\u001b[0m     \u001b[0;32mreturn\u001b[0m \u001b[0mcls\u001b[0m\u001b[0;34m(\u001b[0m\u001b[0;34m[\u001b[0m\u001b[0;34m\"cheese\"\u001b[0m\u001b[0;34m,\u001b[0m \u001b[0;34m\"tomatoes\"\u001b[0m\u001b[0;34m,\u001b[0m \u001b[0;34m\"ham\"\u001b[0m\u001b[0;34m,\u001b[0m \u001b[0;34m\"mushrooms\"\u001b[0m\u001b[0;34m]\u001b[0m\u001b[0;34m)\u001b[0m\u001b[0;34m\u001b[0m\u001b[0;34m\u001b[0m\u001b[0m\n\u001b[1;32m     17\u001b[0m \u001b[0;34m\u001b[0m\u001b[0m\n\u001b[0;32m---> 18\u001b[0;31m   \u001b[0;34m@\u001b[0m\u001b[0mstaticmethod\u001b[0m\u001b[0;34m\u001b[0m\u001b[0;34m\u001b[0m\u001b[0m\n\u001b[0m\u001b[1;32m     19\u001b[0m   \u001b[0;32mdef\u001b[0m \u001b[0m_circle_area\u001b[0m\u001b[0;34m(\u001b[0m\u001b[0;34m)\u001b[0m\u001b[0;34m:\u001b[0m  \u001b[0;31m# he uses \"_\" to emphasize that it is not part of APIs for this function but a kind of internal implementation detail\u001b[0m\u001b[0;34m\u001b[0m\u001b[0;34m\u001b[0m\u001b[0m\n\u001b[1;32m     20\u001b[0m     \u001b[0;32mreturn\u001b[0m \u001b[0mr\u001b[0m\u001b[0;34m**\u001b[0m\u001b[0;36m2\u001b[0m \u001b[0;34m*\u001b[0m \u001b[0mmath\u001b[0m\u001b[0;34m.\u001b[0m\u001b[0mpi\u001b[0m\u001b[0;34m\u001b[0m\u001b[0;34m\u001b[0m\u001b[0m\n",
            "\u001b[0;31mTypeError\u001b[0m: staticmethod() takes 0 positional arguments but 1 was given"
          ]
        }
      ]
    }
  ]
}