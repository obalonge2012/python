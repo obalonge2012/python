{
  "nbformat": 4,
  "nbformat_minor": 0,
  "metadata": {
    "colab": {
      "provenance": [],
      "authorship_tag": "ABX9TyMzgiumt8D182n6fBF4lkya",
      "include_colab_link": true
    },
    "kernelspec": {
      "name": "python3",
      "display_name": "Python 3"
    },
    "language_info": {
      "name": "python"
    }
  },
  "cells": [
    {
      "cell_type": "markdown",
      "metadata": {
        "id": "view-in-github",
        "colab_type": "text"
      },
      "source": [
        "<a href=\"https://colab.research.google.com/github/obalonge2012/python/blob/main/pybasics_functions.ipynb\" target=\"_parent\"><img src=\"https://colab.research.google.com/assets/colab-badge.svg\" alt=\"Open In Colab\"/></a>"
      ]
    },
    {
      "cell_type": "code",
      "execution_count": null,
      "metadata": {
        "id": "4Q6sdWWTUilg",
        "colab": {
          "base_uri": "https://localhost:8080/"
        },
        "outputId": "a15be70e-693a-47b6-a23c-2d2179e9ecfd"
      },
      "outputs": [
        {
          "output_type": "stream",
          "name": "stdout",
          "text": [
            "Bread x 1\n",
            "Milk x 2\n",
            "Chocolate x 1\n",
            "Butter x 1\n",
            "Coffee x 1\n"
          ]
        },
        {
          "output_type": "execute_result",
          "data": {
            "text/plain": [
              "dict_items([('color', 'blue'), ('fruit', 'apple'), ('pet', 'dog')])"
            ]
          },
          "metadata": {},
          "execution_count": 12
        }
      ],
      "source": [
        "# Defining Functions With No Input Parameters\n",
        "\n",
        "shopping_list = {\n",
        "    \"Bread\": 1,\n",
        "    \"Milk\": 2,\n",
        "    \"Chocolate\": 1,\n",
        "    \"Butter\": 1,\n",
        "    \"Coffee\": 1,\n",
        "}\n",
        "\n",
        "def show_list(): # this line is called function signature\n",
        "  for item_name, quantity in shopping_list.items(): # key()\n",
        "    print(\"{} x {}\".format(item_name, quantity))\n",
        "\n",
        "show_list()\n",
        "\n",
        "## Note:\n",
        "# You don’t need any input parameters in this example since the dictionary\n",
        "# shopping_list is a global variable. This means that it can be accessed from\n",
        "# everywhere in the program, including from within the function definition.\n",
        "# likes = {\"color\": \"blue\", \"fruit\": \"apple\", \"pet\": \"dog\"}\n",
        "# likes.items()"
      ]
    },
    {
      "cell_type": "code",
      "source": [
        "# Defining Functions With Required Input Arguments\n",
        "# Dictionary View Objects: keys(), values(), items\n",
        "#====A. Default Values Assigned to Input Parameters\n",
        "shopping_list = {}\n",
        "\n",
        "def add_item(item_name, quantity):\n",
        "  if item_name in shopping_list.keys(): ## Using the .items() method to get a view of the dictionary's key-value pairs\n",
        "    shopping_list[item_name] += quantity #Checking if the item=key exists\n",
        "  else:\n",
        "    shopping_list[item_name] = quantity\n",
        "\n",
        "add_item(\"Bread\", 2)\n",
        "print (shopping_list)\n"
      ],
      "metadata": {
        "colab": {
          "base_uri": "https://localhost:8080/"
        },
        "id": "krdvXKPIWnJV",
        "outputId": "8a373fb4-ef46-4491-a69c-c8da952bdbac"
      },
      "execution_count": null,
      "outputs": [
        {
          "output_type": "stream",
          "name": "stdout",
          "text": [
            "{'Bread': 2}\n"
          ]
        }
      ]
    },
    {
      "cell_type": "code",
      "source": [
        "# Defining Functions Using Python Optional Arguments With Default Values\n",
        "#====A. Default Values Assigned to Input Parameters\n",
        "\n",
        "shopping_list = {}\n",
        "\n",
        "def add_item(item_name, quantity=1):\n",
        "  if item_name in shopping_list.keys():\n",
        "    shopping_list[item_name] += quantity # Accumulator\n",
        "  else:\n",
        "    shopping_list[item_name] = quantity\n",
        "\n",
        "add_item(\"Bread\")\n",
        "print (shopping_list)\n"
      ],
      "metadata": {
        "colab": {
          "base_uri": "https://localhost:8080/"
        },
        "id": "F9SDkdfa8LH-",
        "outputId": "16f55b20-1e0f-4a0d-ea5e-c389776cb168"
      },
      "execution_count": null,
      "outputs": [
        {
          "output_type": "stream",
          "name": "stdout",
          "text": [
            "{'Bread': 1}\n"
          ]
        }
      ]
    },
    {
      "cell_type": "code",
      "source": [
        "#  Defining Functions to accept DEFAULT Arguments\n",
        "\n",
        "#====A. No INPUTS arguments or best use Boolean as flag argument\n",
        "\n",
        "def show_list(include_quantities=True):\n",
        "  for item_name, quantity in shopping_list.items():\n",
        "    if include_quantities:\n",
        "      print(\"{} x {}\".format(quantity, item_name))\n",
        "\n",
        "    else:\n",
        "      print(item_name)\n",
        "\n",
        "show_list(True)\n",
        "print(shopping_list)\n"
      ],
      "metadata": {
        "colab": {
          "base_uri": "https://localhost:8080/"
        },
        "id": "5eoC2D0t9lnA",
        "outputId": "bebd37ac-189b-41ee-cd61-cf2f8189ca8f"
      },
      "execution_count": null,
      "outputs": [
        {
          "output_type": "stream",
          "name": "stdout",
          "text": [
            "2 x \n",
            "6 x Apple\n",
            "{'': 2, 'Apple': 6}\n"
          ]
        }
      ]
    },
    {
      "cell_type": "code",
      "source": [
        "# Defining functions to Default Arguments as values\n",
        "\n",
        "#====A. Common Default Argument Values: int=0 or 1, string=\"\"\n",
        "def add_item(item_name=\"\", quantity=1):\n",
        "    if item_name in shopping_list.keys():\n",
        "        shopping_list[item_name] += quantity\n",
        "    else:\n",
        "        shopping_list[item_name] = quantity\n",
        "\n",
        "add_item(\"Apple\", 2)\n",
        "print(shopping_list)\n",
        "\n",
        "#====A. Default Argument: Add an item to the shopping_list dictionary with an empty string as a key and a value of 1\n",
        "def add_item(item_name=\"\", quantity=1):\n",
        "  if not item_name:\n",
        "    quantity = 0\n",
        "  if item_name in shopping_list.items():\n",
        "    if item_name in shopping_list.keys():\n",
        "        shopping_list[item_name] += quantity\n",
        "    else:\n",
        "        shopping_list[item_name] = quantity\n",
        "\n",
        "add_item()\n",
        "print(shopping_list)\n",
        "\n"
      ],
      "metadata": {
        "colab": {
          "base_uri": "https://localhost:8080/"
        },
        "id": "lFEPxp8l_oJJ",
        "outputId": "b46721ba-ba9c-409e-a13b-3b946d65a708"
      },
      "execution_count": null,
      "outputs": [
        {
          "output_type": "stream",
          "name": "stdout",
          "text": [
            "{'': 2, 'Apple': 10}\n"
          ]
        }
      ]
    },
    {
      "cell_type": "code",
      "source": [
        "# Data Types That Shouldn’t Be Used as Default Arguments\n",
        "\n",
        "#====A. making all arguments required ones\n",
        "# def add_item(item_name, quantity, shopping_list, include_quantities=True):\n",
        "#   if item_name in shopping_list.keys():\n",
        "#     shopping_list[item_name] += quantity\n",
        "\n",
        "#   else:\n",
        "#     shopping_list[item_name] = quantity\n",
        "\n",
        "#   return shopping_list\n",
        "\n",
        "#======\n",
        "### You can add the dictionary containing the item names and quantities as an\n",
        "# input parameter to the function you defined\n",
        "def add_item(item_name, quantity, shopping_list):\n",
        "    if item_name in shopping_list.keys():\n",
        "        shopping_list[item_name] += quantity  # If item exists, increment its quantity\n",
        "    else:\n",
        "        shopping_list[item_name] = quantity  # If item doesn't exist, add it with the given quantity\n",
        "\n",
        "    return shopping_list  # Return the modified dictionary\n",
        "# This makes the function more self-contained as it doesn’t rely on a variable\n",
        "# called shopping_list to exist in the scope that’s calling the function.\n",
        "\n",
        "shopping_list = {'apple': 5, 'banana': 2}\n",
        "add_item('apple', 3, shopping_list)\n",
        "\n",
        "print(shopping_list)  # Output: {'apple': 8, 'banana': 2}\n",
        "\n",
        "\n"
      ],
      "metadata": {
        "colab": {
          "base_uri": "https://localhost:8080/"
        },
        "id": "xRaXkExzIK9E",
        "outputId": "57cb7def-c8fc-4acd-eb14-a12d63df4cf9"
      },
      "execution_count": null,
      "outputs": [
        {
          "output_type": "stream",
          "name": "stdout",
          "text": [
            "{'apple': 8, 'banana': 2}\n"
          ]
        }
      ]
    },
    {
      "cell_type": "code",
      "source": [
        "#======\n",
        "# What Happens When You Make the Argument Optional? You need RETURN\n",
        "\n",
        "def add_item(item_name, quantity, shopping_list=None):\n",
        "    if shopping_list is None:\n",
        "        shopping_list = {}  # Create a new dictionary if no dictionary is provided\n",
        "\n",
        "    if item_name in shopping_list:\n",
        "        shopping_list[item_name] += quantity\n",
        "    else:\n",
        "        shopping_list[item_name] = quantity\n",
        "\n",
        "    return shopping_list  # Return the new or modified dictionary\n",
        "\n",
        "# Now, the caller can choose whether to pass a dictionary or not\n",
        "new_list = add_item('apple', 3)  # No dictionary passed, uses a new one\n",
        "print(new_list)  # Output: {'apple': 3}\n",
        "\n"
      ],
      "metadata": {
        "id": "lo36Y-XuQ9e0"
      },
      "execution_count": null,
      "outputs": []
    },
    {
      "cell_type": "code",
      "source": [
        "# You can add a shopping_list parameter to show_list()\n",
        "hardware_store_list = {}\n",
        "supermarket_list = {}\n",
        "\n",
        "def show_list(shopping_list, include_quantities=True):\n",
        "  print()\n",
        "  for item_name, quantity in shopping_list.items():\n",
        "    if include_quantities:\n",
        "      print(\"{} x {}\".format(item_name, quantity))\n",
        "    else:\n",
        "      print(item_name)\n",
        "\n",
        "def add_item(item_name, quantity, shopping_list):\n",
        "    if item_name in shopping_list.keys():\n",
        "        shopping_list[item_name] += quantity\n",
        "    else:\n",
        "        shopping_list[item_name] = quantity\n",
        "\n",
        "    return shopping_list\n",
        "\n",
        "\n",
        "hardware_store_list = add_item(\"Nails\", 1, hardware_store_list)\n",
        "hardware_store_list = add_item(\"Screwdriver\", 1, hardware_store_list)\n",
        "hardware_store_list = add_item(\"Glue\", 3, hardware_store_list)\n",
        "\n",
        "supermarket_list = add_item(\"Bread\", 1, supermarket_list)\n",
        "supermarket_list = add_item(\"Milk\", 2, supermarket_list)\n",
        "\n",
        "\n",
        "show_list(hardware_store_list)\n",
        "show_list(supermarket_list)\n",
        "\n"
      ],
      "metadata": {
        "colab": {
          "base_uri": "https://localhost:8080/"
        },
        "id": "eSxeJ-RhTGWt",
        "outputId": "ae6a0d3a-e9b3-476e-f2ed-6bf236306931"
      },
      "execution_count": null,
      "outputs": [
        {
          "output_type": "stream",
          "name": "stdout",
          "text": [
            "\n",
            "Nails x 1\n",
            "Screwdriver x 1\n",
            "Glue x 3\n",
            "\n",
            "Bread x 1\n",
            "Milk x 2\n"
          ]
        }
      ]
    },
    {
      "cell_type": "code",
      "source": [
        "### Function Composition\n",
        "# Function Object: passing a Function as an argument to another Function (it looses its parentheses.)\n",
        "# def add_five(x):\n",
        "#   return x+5\n",
        "\n",
        "# def square(x):\n",
        "#   return x*x\n",
        "\n",
        "# add(20)\n",
        "# add_five(square(5))\n",
        "\n",
        "def apply_function(func, value):\n",
        "  return func(value)\n",
        "\n",
        "apply_function(square, 5)\n",
        "\n",
        "\n",
        "# Specify another function as its return value for the function\n",
        "def outer():\n",
        "  def inner():\n",
        "    print(\"I am function inner()!\")\n",
        "  # # Function outer() returns function inner()\n",
        "  return inner()\n",
        "\n",
        "outer()\n",
        "\n",
        "def add_numb():\n",
        "  def mult_numb(square, value):\n",
        "    print(\"This is a second function!\")\n",
        "\n",
        "  return mult_numb\n",
        "\n",
        "function = add_numb()\n"
      ],
      "metadata": {
        "colab": {
          "base_uri": "https://localhost:8080/"
        },
        "id": "MNG3oyEDB2Rn",
        "outputId": "eefbf8b0-fe5c-42f0-e883-bbae3862b43f"
      },
      "execution_count": null,
      "outputs": [
        {
          "output_type": "stream",
          "name": "stdout",
          "text": [
            "I am function inner()!\n"
          ]
        }
      ]
    },
    {
      "cell_type": "code",
      "source": [
        "### Defining an Anonymous Function With lambda\n",
        "# Defining an Anonymous Function With lambda\n",
        "lambda s: s[::-1]\n",
        "\n",
        "\n",
        "callable(lambda s: s[::-1]) # if False, not callable\n",
        "\n",
        "#reverse = lambda s: s[::-1]\n",
        "#reverse(\"I am a King\")\n",
        "\n",
        "### Equivalent function\n",
        "def reverse(s):\n",
        "  return s[::-1]\n",
        "\n",
        "#reverse(\"I am a King\")\n",
        "\n",
        "# not necessary to assign a variable to a lambda expression before calling it.\n",
        "# You can also call the function defined by a lambda expression directly:\n",
        "\n",
        "(lambda s: s[::-1])(\"I am a King\")\n",
        "\n",
        "# Example 2\n",
        "#(lambda x1, x2, x3: ((x1 + x2 + x3) /3))(9, 6, 6) # You can even build a more complex lambda function\n",
        "\n",
        "# Example 3\n",
        "animals = [\"ferret\", \"vole\", \"dog\", \"gecko\"]\n",
        "def reverse_len(s):\n",
        "  return -len(s)\n",
        "\n",
        "#sorted(animals, key=reverse_len) # now, use lamdba for this\n",
        "\n",
        "sorted(animals, key=lambda s: -len(s))\n",
        "\n",
        "# A lambda expression can’t contain statements like assignment or return,\n",
        "# nor can it contain control structures such as for, while, if, else, or def.\n",
        "\n",
        "# While lambda expressions can’t contain any conditional statements,\n",
        "# they can contain conditional expressions\n",
        "(lambda x: \"even\" if x % 2 == 0 else \"old\")(2)\n",
        "\n",
        "\n",
        "###=====Implicit Packing\n",
        "#When defining a Python function with def, you can effectively return multiple values\n",
        "def power_tuple(x):\n",
        "  return x, x**2, x**3\n",
        "\n",
        "#power_tuple(3)\n",
        "\n",
        "#Packing DOES NOT work with lambda function\n",
        "#(lambda x: x, x ** 2, x ** 3)(3) # will give error\n",
        "\n",
        "(lambda x: (x, x**2, x**3))(3) # this will work -->tuple: ()\n",
        "(lambda x: [x, x ** 2, x ** 3])(3) # this will work --->list: []\n",
        "(lambda x: {1: x, 2: x ** 2, 3: x ** 3})(3)  # this will work --->Dictionary: {}\n",
        "\n",
        "#======\n",
        "# A lambda expression can access variables in the global namespace, but it can’t modify them.\n",
        "\n",
        "#======\n",
        "# There’s one final oddity to be aware of. If you find a need to include a\n",
        "#lambda expression in a formatted string literal, or f-string, then you’ll need to enclose it in explicit parentheses:\n",
        "\n",
        "#print(f\"- {lambda s: s[::-1]} -\") # will not work, f-string lambda expression needs parentheses\n",
        "\n",
        "print(f\"- {(lambda s: s[::-1])} -\") # will work.\n",
        "\n",
        "print(f\"- {(lambda s: s[::-1])('I am a string')} -\") # this will work\n",
        "\n",
        "\n",
        "\n"
      ],
      "metadata": {
        "colab": {
          "base_uri": "https://localhost:8080/"
        },
        "id": "Jlrd6uqCKNV2",
        "outputId": "96deac0b-f333-44d3-c234-b5a2e4e1a795"
      },
      "execution_count": null,
      "outputs": [
        {
          "output_type": "stream",
          "name": "stdout",
          "text": [
            "- <function <lambda> at 0x7eab20839f80> -\n"
          ]
        }
      ]
    },
    {
      "cell_type": "code",
      "source": [
        "### Functional Programming: Python offers two built-in functions, map() and filter()\n",
        "# A third function, reduce(), is no longer part of the core language but is still available in a module called functools\n",
        "\n",
        "\n",
        "\n",
        "\n"
      ],
      "metadata": {
        "id": "2z-L0g2jVDdx"
      },
      "execution_count": null,
      "outputs": []
    }
  ]
}