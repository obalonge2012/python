{
  "nbformat": 4,
  "nbformat_minor": 0,
  "metadata": {
    "colab": {
      "provenance": [],
      "authorship_tag": "ABX9TyPTGf/sifTlZA+5jdS5IVkN",
      "include_colab_link": true
    },
    "kernelspec": {
      "name": "python3",
      "display_name": "Python 3"
    },
    "language_info": {
      "name": "python"
    }
  },
  "cells": [
    {
      "cell_type": "markdown",
      "metadata": {
        "id": "view-in-github",
        "colab_type": "text"
      },
      "source": [
        "<a href=\"https://colab.research.google.com/github/obalonge2012/python/blob/main/pybasic_list_compre.ipynb\" target=\"_parent\"><img src=\"https://colab.research.google.com/assets/colab-badge.svg\" alt=\"Open In Colab\"/></a>"
      ]
    },
    {
      "cell_type": "code",
      "execution_count": 2,
      "metadata": {
        "id": "uk45hRjCh2lg"
      },
      "outputs": [],
      "source": [
        "# LIST Comprehensions\n",
        "squares = []\n",
        "\n",
        "for number in range(10):\n",
        "  squares.append(number * number)\n",
        "\n",
        "squares\n",
        "\n"
      ]
    },
    {
      "cell_type": "code",
      "source": [
        "### Work With map Objects\n",
        "prices = [1.09, 23.56, 57.84, 4.56, 6.78]\n",
        "TAX_RATE = 0.08\n",
        "\n",
        "def get_price_with_tax(price):\n",
        "  return price * (1 + TAX_RATE)\n",
        "\n",
        "final_prices = map(get_price_with_tax, prices)\n",
        "final_prices\n",
        "list(final_prices)"
      ],
      "metadata": {
        "colab": {
          "base_uri": "https://localhost:8080/"
        },
        "id": "TU7D9zWIl2a_",
        "outputId": "65e92481-8918-4237-cafb-ee666f920a4b"
      },
      "execution_count": 8,
      "outputs": [
        {
          "output_type": "execute_result",
          "data": {
            "text/plain": [
              "[1.1772000000000002, 25.4448, 62.467200000000005, 4.9248, 7.322400000000001]"
            ]
          },
          "metadata": {},
          "execution_count": 8
        }
      ]
    },
    {
      "cell_type": "code",
      "source": [
        "# Leverage List Comprehensions for Sqaures\n",
        "prices = [1.09, 23.56, 57.84, 4.56, 6.78]\n",
        "\n",
        "squares = [number * number for number in range(10)]\n",
        "\n",
        "squares"
      ],
      "metadata": {
        "colab": {
          "base_uri": "https://localhost:8080/"
        },
        "id": "radYqv68l_tJ",
        "outputId": "73428bd1-195f-44d2-ac70-6cd8e328880e"
      },
      "execution_count": 10,
      "outputs": [
        {
          "output_type": "execute_result",
          "data": {
            "text/plain": [
              "[0, 1, 4, 9, 16, 25, 36, 49, 64, 81]"
            ]
          },
          "metadata": {},
          "execution_count": 10
        }
      ]
    },
    {
      "cell_type": "code",
      "source": [
        "# Leverage List Comprehensions for get_price_with_tax\n",
        "\n",
        "final_prices = [get_price_with_tax(price) for price in prices]\n",
        "\n",
        "final_prices"
      ],
      "metadata": {
        "colab": {
          "base_uri": "https://localhost:8080/"
        },
        "id": "fKfnadAKnqIE",
        "outputId": "87c1fd57-85d0-4856-8f53-6424914ef6ff"
      },
      "execution_count": 11,
      "outputs": [
        {
          "output_type": "execute_result",
          "data": {
            "text/plain": [
              "[1.1772000000000002, 25.4448, 62.467200000000005, 4.9248, 7.322400000000001]"
            ]
          },
          "metadata": {},
          "execution_count": 11
        }
      ]
    },
    {
      "cell_type": "code",
      "source": [
        "# Filter Values From a List\n",
        "# new_list = [expression for member in iterable if conditional]\n",
        "\n",
        "sentence = \"the rocket came back from mars\"\n",
        "\n",
        "sentence_value = [char for char in sentence]\n",
        "\n",
        "print(sentence_value)\n",
        "\n",
        "\n",
        "####\n",
        "[char for char in sentence if char in \"aeiou\"]"
      ],
      "metadata": {
        "colab": {
          "base_uri": "https://localhost:8080/"
        },
        "id": "ILaE_YFdpa_x",
        "outputId": "8d37a203-1c20-49fe-b7ab-7b4bf53bf63d"
      },
      "execution_count": 14,
      "outputs": [
        {
          "output_type": "stream",
          "name": "stdout",
          "text": [
            "['t', 'h', 'e', ' ', 'r', 'o', 'c', 'k', 'e', 't', ' ', 'c', 'a', 'm', 'e', ' ', 'b', 'a', 'c', 'k', ' ', 'f', 'r', 'o', 'm', ' ', 'm', 'a', 'r', 's']\n"
          ]
        },
        {
          "output_type": "execute_result",
          "data": {
            "text/plain": [
              "['e', 'o', 'e', 'a', 'e', 'a', 'o', 'a']"
            ]
          },
          "metadata": {},
          "execution_count": 14
        }
      ]
    },
    {
      "cell_type": "code",
      "source": [
        "# Create complex filter\n",
        "sentence = (\"The rocket, who was named Ted, came back \"\n",
        "\"from Mars because he missed his friends.\"\n",
        ")\n",
        "\n",
        "def is_consonant(letter):\n",
        "  vowels = \"aeiou\"\n",
        "  return letter.isalpha() and letter.lower() not in vowels\n",
        "\n",
        "[char for char in sentence if not \"aeiou\"]\n",
        "\n",
        "#[char for char in sentence if is_consonant(char)]"
      ],
      "metadata": {
        "colab": {
          "base_uri": "https://localhost:8080/"
        },
        "id": "EELsLVOLq5DY",
        "outputId": "d264cfdd-6848-481f-fa4d-613b25ef8a09"
      },
      "execution_count": 26,
      "outputs": [
        {
          "output_type": "execute_result",
          "data": {
            "text/plain": [
              "[]"
            ]
          },
          "metadata": {},
          "execution_count": 26
        }
      ]
    },
    {
      "cell_type": "code",
      "source": [
        "# In the above, You can place the conditional at the end of the statement for\n",
        "# basic filtering, but what if you want to change a member value instead of filtering it out?\n",
        "\n",
        "# Change, not filtering? Just switch if-cond and for-Loop or place  if cond stat at the beginning of the expression\n",
        "# new_list = [true_expr if conditional else false_expr for member in iterable]\n",
        "\n",
        "original_prices = [1.25, -9.45, 10.22, 3.78, -5.92, 1.16]\n",
        "\n",
        "my_prices = [price if price > 0 else 0 for price in original_prices]\n",
        "my_prices\n",
        "\n"
      ],
      "metadata": {
        "colab": {
          "base_uri": "https://localhost:8080/"
        },
        "id": "dqNqC6pzs6Dj",
        "outputId": "fea2a22f-eca3-4d95-d03f-d9c52de12506"
      },
      "execution_count": 30,
      "outputs": [
        {
          "output_type": "execute_result",
          "data": {
            "text/plain": [
              "[1.25, 0, 10.22, 3.78, 0, 1.16]"
            ]
          },
          "metadata": {},
          "execution_count": 30
        }
      ]
    },
    {
      "cell_type": "code",
      "source": [],
      "metadata": {
        "id": "zlHuYZe6wA6L"
      },
      "execution_count": null,
      "outputs": []
    },
    {
      "cell_type": "code",
      "source": [
        "# if avove is overwhelming\n",
        "def get_price(price):\n",
        "  return price if price > 0 else 0\n",
        "\n",
        "[get_price(price) for price in original_prices]"
      ],
      "metadata": {
        "colab": {
          "base_uri": "https://localhost:8080/"
        },
        "id": "Igu5iIkmvGOn",
        "outputId": "74a8016a-8965-4e1b-8ee1-f55d0093ba1f"
      },
      "execution_count": 29,
      "outputs": [
        {
          "output_type": "execute_result",
          "data": {
            "text/plain": [
              "[1.25, 0, 10.22, 3.78, 0, 1.16]"
            ]
          },
          "metadata": {},
          "execution_count": 29
        }
      ]
    },
    {
      "cell_type": "code",
      "source": [
        "### Watch Out for Nested Comprehensions to create combinations of lists, dictionaries, and sets within a collection.\n",
        "\n",
        "cities = [\"Austin\", \"Tacoma\", \"Topeka\", \"Sacramento\", \"Charlotte\"]\n",
        "{city: [0 for _ in range(7)] for city in cities}\n"
      ],
      "metadata": {
        "colab": {
          "base_uri": "https://localhost:8080/"
        },
        "id": "7VzIwHjOwCQN",
        "outputId": "9f1cc978-0837-47f5-e2ff-d3f463bc5dae"
      },
      "execution_count": 31,
      "outputs": [
        {
          "output_type": "execute_result",
          "data": {
            "text/plain": [
              "{'Austin': [0, 0, 0, 0, 0, 0, 0],\n",
              " 'Tacoma': [0, 0, 0, 0, 0, 0, 0],\n",
              " 'Topeka': [0, 0, 0, 0, 0, 0, 0],\n",
              " 'Sacramento': [0, 0, 0, 0, 0, 0, 0],\n",
              " 'Charlotte': [0, 0, 0, 0, 0, 0, 0]}"
            ]
          },
          "metadata": {},
          "execution_count": 31
        }
      ]
    },
    {
      "cell_type": "code",
      "source": [
        "### Nested List\n",
        "#Nested lists are a common way to create matrices, which you’ll often use for mathematical purposes. Take a look at the code block below:\n",
        "[[number for number in range(5)] for _ in range(6)]\n",
        "\n",
        "\n",
        "### The outer list comprehension [... for _ in range(6)] creates six rows, while the inner list comprehension [number for number in range(5)] fills each of these rows with values."
      ],
      "metadata": {
        "colab": {
          "base_uri": "https://localhost:8080/"
        },
        "id": "q0Qe2B11xQPG",
        "outputId": "0f3b283e-2883-44be-a8e2-95e3f5cd8d3e"
      },
      "execution_count": 32,
      "outputs": [
        {
          "output_type": "execute_result",
          "data": {
            "text/plain": [
              "[[0, 1, 2, 3, 4],\n",
              " [0, 1, 2, 3, 4],\n",
              " [0, 1, 2, 3, 4],\n",
              " [0, 1, 2, 3, 4],\n",
              " [0, 1, 2, 3, 4],\n",
              " [0, 1, 2, 3, 4]]"
            ]
          },
          "metadata": {},
          "execution_count": 32
        }
      ]
    },
    {
      "cell_type": "code",
      "source": [
        "### Flatteming Lists\n",
        "\n",
        "# So far, the purpose of each nested comprehension is pretty intuitive. However, there are other situations, such as flattening lists,\n",
        "# where the logic arguably makes your code more confusing.\n",
        "\n",
        "matrix = [\n",
        "    [0, 0, 0],\n",
        "    [1, 1, 1],\n",
        "    [2, 2, 2],\n",
        "]\n",
        "[number for row in matrix for number in row]"
      ],
      "metadata": {
        "colab": {
          "base_uri": "https://localhost:8080/"
        },
        "id": "bksUyz3MxcJ1",
        "outputId": "90582e07-69f3-4a9a-d1d4-86a78159b0b9"
      },
      "execution_count": 33,
      "outputs": [
        {
          "output_type": "execute_result",
          "data": {
            "text/plain": [
              "[0, 0, 0, 1, 1, 1, 2, 2, 2]"
            ]
          },
          "metadata": {},
          "execution_count": 33
        }
      ]
    },
    {
      "cell_type": "code",
      "source": [
        "\n",
        "\n",
        "\n",
        ">>> matrix = [\n",
        "...     [0, 0, 0],\n",
        "...     [1, 1, 1],\n",
        "...     [2, 2, 2],\n",
        "... ]\n",
        ">>> flat = []\n",
        ">>> for row in matrix:\n",
        "...     for number in row:\n",
        "...         flat.append(number)\n",
        "...\n",
        ">>> flat\n",
        "[0, 0, 0, 1, 1, 1, 2, 2, 2]"
      ],
      "metadata": {
        "id": "dkLJ01afyDBN"
      },
      "execution_count": null,
      "outputs": []
    },
    {
      "cell_type": "code",
      "source": [
        "### Use GENERATORS for LARGE datasets\n",
        "\n",
        "# When the size of a list becomes problematic, it’s often helpful to use a\n",
        "# generator instead of a list comprehension in Python. A generator doesn’t\n",
        "# create a single, large data structure in memory, but instead returns an iterable.\n",
        "# Your code can ask for the next value from the iterable as many times as\n",
        "#necessary or until you’ve reached the end of your sequence, while only storing a single value at a time.\n",
        "\n",
        "sum(number * number for number in range(1_000_000_000))\n",
        "\n",
        "# Or using map\n",
        "sum(map(lambda number: number * number, range(1_000_000_000)))\n"
      ],
      "metadata": {
        "id": "1iX-hrQJyPeJ"
      },
      "execution_count": null,
      "outputs": []
    },
    {
      "cell_type": "code",
      "source": [
        "### Profile to Optimize Performance\n",
        "\n",
        "\n",
        ">>> import random\n",
        ">>> import timeit\n",
        ">>> TAX_RATE = .08\n",
        ">>> PRICES = [random.randrange(100) for _ in range(100_000)]\n",
        ">>> def get_price(price):\n",
        "...     return price * (1 + TAX_RATE)\n",
        "...\n",
        ">>> def get_prices_with_map():\n",
        "...     return list(map(get_price, PRICES))\n",
        "...\n",
        ">>> def get_prices_with_comprehension():\n",
        "...     return [get_price(price) for price in PRICES]\n",
        "...\n",
        ">>> def get_prices_with_loop():\n",
        "...     prices = []\n",
        "...     for price in PRICES:\n",
        "...         prices.append(get_price(price))\n",
        "...     return prices\n",
        "...\n",
        "\n",
        ">>> timeit.timeit(get_prices_with_map, number=100)\n",
        "2.0554370979998566\n",
        "\n",
        ">>> timeit.timeit(get_prices_with_comprehension, number=100)\n",
        "2.3982384680002724\n",
        "\n",
        ">>> timeit.timeit(get_prices_with_loop, number=100)\n",
        "3.0531821520007725"
      ],
      "metadata": {
        "id": "Tss1m5HozIAx"
      },
      "execution_count": null,
      "outputs": []
    }
  ]
}